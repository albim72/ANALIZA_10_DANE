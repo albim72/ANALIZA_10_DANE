{
 "cells":[
  {
   "cell_type":"code",
   "source":[
    "import pandas as pd"
   ],
   "execution_count":1,
   "outputs":[
    
   ],
   "metadata":{
    "datalore":{
     "node_id":"RYRNzGCalvc4i35HdlBhiQ",
     "type":"CODE",
     "hide_input_from_viewers":true,
     "hide_output_from_viewers":true
    }
   }
  },
  {
   "cell_type":"code",
   "source":[
    "unames = ['user_id','gender','age','occupation','zip']\n",
    "users = pd.read_table('dane\/movielens\/users.dat',sep='::',header=None,names=unames)\n",
    "\n",
    "rnames = ['user_id','movie_id','rating','timestamp']\n",
    "ratings = pd.read_table('dane\/movielens\/ratings.dat',sep='::',header=None,names=rnames)\n",
    "\n",
    "mnames = ['movie_id','title','genres']\n",
    "movies = pd.read_table('dane\/movielens\/movies.dat',encoding='ISO-8859-1',engine='python',sep='::',header=None,names=mnames)"
   ],
   "execution_count":10,
   "outputs":[
    {
     "name":"stderr",
     "text":[
      "<ipython-input-10-2d78b42bea51>:2: ParserWarning: Falling back to the 'python' engine because the 'c' engine does not support regex separators (separators > 1 char and different from '\\s+' are interpreted as regex); you can avoid this warning by specifying engine='python'.\n",
      "  users = pd.read_table('dane\/movielens\/users.dat',sep='::',header=None,names=unames)\n",
      "<ipython-input-10-2d78b42bea51>:5: ParserWarning: Falling back to the 'python' engine because the 'c' engine does not support regex separators (separators > 1 char and different from '\\s+' are interpreted as regex); you can avoid this warning by specifying engine='python'.\n",
      "  ratings = pd.read_table('dane\/movielens\/ratings.dat',sep='::',header=None,names=rnames)\n"
     ],
     "output_type":"stream"
    }
   ],
   "metadata":{
    "datalore":{
     "node_id":"PSRTnImrBCZHS2aJZ5ZdrG",
     "type":"CODE",
     "hide_input_from_viewers":true,
     "hide_output_from_viewers":true
    }
   }
  },
  {
   "cell_type":"code",
   "source":[
    "users[:5]"
   ],
   "execution_count":3,
   "outputs":[
    {
     "data":{
      "text\/html":[
       "<div>\n",
       "<style scoped>\n",
       "    .dataframe tbody tr th:only-of-type {\n",
       "        vertical-align: middle;\n",
       "    }\n",
       "\n",
       "    .dataframe tbody tr th {\n",
       "        vertical-align: top;\n",
       "    }\n",
       "\n",
       "    .dataframe thead th {\n",
       "        text-align: right;\n",
       "    }\n",
       "<\/style>\n",
       "<table border=\"1\" class=\"dataframe\">\n",
       "  <thead>\n",
       "    <tr style=\"text-align: right;\">\n",
       "      <th><\/th>\n",
       "      <th>user_id<\/th>\n",
       "      <th>gender<\/th>\n",
       "      <th>age<\/th>\n",
       "      <th>occupation<\/th>\n",
       "      <th>zip<\/th>\n",
       "    <\/tr>\n",
       "  <\/thead>\n",
       "  <tbody>\n",
       "    <tr>\n",
       "      <th>0<\/th>\n",
       "      <td>1<\/td>\n",
       "      <td>F<\/td>\n",
       "      <td>1<\/td>\n",
       "      <td>10<\/td>\n",
       "      <td>48067<\/td>\n",
       "    <\/tr>\n",
       "    <tr>\n",
       "      <th>1<\/th>\n",
       "      <td>2<\/td>\n",
       "      <td>M<\/td>\n",
       "      <td>56<\/td>\n",
       "      <td>16<\/td>\n",
       "      <td>70072<\/td>\n",
       "    <\/tr>\n",
       "    <tr>\n",
       "      <th>2<\/th>\n",
       "      <td>3<\/td>\n",
       "      <td>M<\/td>\n",
       "      <td>25<\/td>\n",
       "      <td>15<\/td>\n",
       "      <td>55117<\/td>\n",
       "    <\/tr>\n",
       "    <tr>\n",
       "      <th>3<\/th>\n",
       "      <td>4<\/td>\n",
       "      <td>M<\/td>\n",
       "      <td>45<\/td>\n",
       "      <td>7<\/td>\n",
       "      <td>02460<\/td>\n",
       "    <\/tr>\n",
       "    <tr>\n",
       "      <th>4<\/th>\n",
       "      <td>5<\/td>\n",
       "      <td>M<\/td>\n",
       "      <td>25<\/td>\n",
       "      <td>20<\/td>\n",
       "      <td>55455<\/td>\n",
       "    <\/tr>\n",
       "  <\/tbody>\n",
       "<\/table>\n",
       "<\/div>"
      ]
     },
     "metadata":{
      
     },
     "output_type":"display_data"
    }
   ],
   "metadata":{
    "datalore":{
     "node_id":"6btJ5FZivLNqMbDTz2hDKN",
     "type":"CODE",
     "hide_input_from_viewers":true,
     "hide_output_from_viewers":true
    }
   }
  },
  {
   "cell_type":"code",
   "source":[
    "ratings[:5]"
   ],
   "execution_count":4,
   "outputs":[
    {
     "data":{
      "text\/html":[
       "<div>\n",
       "<style scoped>\n",
       "    .dataframe tbody tr th:only-of-type {\n",
       "        vertical-align: middle;\n",
       "    }\n",
       "\n",
       "    .dataframe tbody tr th {\n",
       "        vertical-align: top;\n",
       "    }\n",
       "\n",
       "    .dataframe thead th {\n",
       "        text-align: right;\n",
       "    }\n",
       "<\/style>\n",
       "<table border=\"1\" class=\"dataframe\">\n",
       "  <thead>\n",
       "    <tr style=\"text-align: right;\">\n",
       "      <th><\/th>\n",
       "      <th>user_id<\/th>\n",
       "      <th>movie_id<\/th>\n",
       "      <th>rating<\/th>\n",
       "      <th>timestamp<\/th>\n",
       "    <\/tr>\n",
       "  <\/thead>\n",
       "  <tbody>\n",
       "    <tr>\n",
       "      <th>0<\/th>\n",
       "      <td>1<\/td>\n",
       "      <td>1193<\/td>\n",
       "      <td>5<\/td>\n",
       "      <td>978300760<\/td>\n",
       "    <\/tr>\n",
       "    <tr>\n",
       "      <th>1<\/th>\n",
       "      <td>1<\/td>\n",
       "      <td>661<\/td>\n",
       "      <td>3<\/td>\n",
       "      <td>978302109<\/td>\n",
       "    <\/tr>\n",
       "    <tr>\n",
       "      <th>2<\/th>\n",
       "      <td>1<\/td>\n",
       "      <td>914<\/td>\n",
       "      <td>3<\/td>\n",
       "      <td>978301968<\/td>\n",
       "    <\/tr>\n",
       "    <tr>\n",
       "      <th>3<\/th>\n",
       "      <td>1<\/td>\n",
       "      <td>3408<\/td>\n",
       "      <td>4<\/td>\n",
       "      <td>978300275<\/td>\n",
       "    <\/tr>\n",
       "    <tr>\n",
       "      <th>4<\/th>\n",
       "      <td>1<\/td>\n",
       "      <td>2355<\/td>\n",
       "      <td>5<\/td>\n",
       "      <td>978824291<\/td>\n",
       "    <\/tr>\n",
       "  <\/tbody>\n",
       "<\/table>\n",
       "<\/div>"
      ]
     },
     "metadata":{
      
     },
     "output_type":"display_data"
    }
   ],
   "metadata":{
    "datalore":{
     "node_id":"xFBTPrwpf06s4Up1wQQFkW",
     "type":"CODE",
     "hide_input_from_viewers":true,
     "hide_output_from_viewers":true
    }
   }
  },
  {
   "cell_type":"code",
   "source":[
    "movies[:5]"
   ],
   "execution_count":11,
   "outputs":[
    {
     "data":{
      "text\/html":[
       "<div>\n",
       "<style scoped>\n",
       "    .dataframe tbody tr th:only-of-type {\n",
       "        vertical-align: middle;\n",
       "    }\n",
       "\n",
       "    .dataframe tbody tr th {\n",
       "        vertical-align: top;\n",
       "    }\n",
       "\n",
       "    .dataframe thead th {\n",
       "        text-align: right;\n",
       "    }\n",
       "<\/style>\n",
       "<table border=\"1\" class=\"dataframe\">\n",
       "  <thead>\n",
       "    <tr style=\"text-align: right;\">\n",
       "      <th><\/th>\n",
       "      <th>movie_id<\/th>\n",
       "      <th>title<\/th>\n",
       "      <th>genres<\/th>\n",
       "    <\/tr>\n",
       "  <\/thead>\n",
       "  <tbody>\n",
       "    <tr>\n",
       "      <th>0<\/th>\n",
       "      <td>1<\/td>\n",
       "      <td>Toy Story (1995)<\/td>\n",
       "      <td>Animation|Children's|Comedy<\/td>\n",
       "    <\/tr>\n",
       "    <tr>\n",
       "      <th>1<\/th>\n",
       "      <td>2<\/td>\n",
       "      <td>Jumanji (1995)<\/td>\n",
       "      <td>Adventure|Children's|Fantasy<\/td>\n",
       "    <\/tr>\n",
       "    <tr>\n",
       "      <th>2<\/th>\n",
       "      <td>3<\/td>\n",
       "      <td>Grumpier Old Men (1995)<\/td>\n",
       "      <td>Comedy|Romance<\/td>\n",
       "    <\/tr>\n",
       "    <tr>\n",
       "      <th>3<\/th>\n",
       "      <td>4<\/td>\n",
       "      <td>Waiting to Exhale (1995)<\/td>\n",
       "      <td>Comedy|Drama<\/td>\n",
       "    <\/tr>\n",
       "    <tr>\n",
       "      <th>4<\/th>\n",
       "      <td>5<\/td>\n",
       "      <td>Father of the Bride Part II (1995)<\/td>\n",
       "      <td>Comedy<\/td>\n",
       "    <\/tr>\n",
       "  <\/tbody>\n",
       "<\/table>\n",
       "<\/div>"
      ]
     },
     "metadata":{
      
     },
     "output_type":"display_data"
    }
   ],
   "metadata":{
    "datalore":{
     "node_id":"FYOvbv8ncMzhZ8NKQncguP",
     "type":"CODE",
     "hide_input_from_viewers":true,
     "hide_output_from_viewers":true
    }
   }
  },
  {
   "cell_type":"code",
   "source":[
    "data = pd.merge(pd.merge(ratings,users),movies)\n",
    "data"
   ],
   "execution_count":12,
   "outputs":[
    {
     "data":{
      "text\/html":[
       "<div>\n",
       "<style scoped>\n",
       "    .dataframe tbody tr th:only-of-type {\n",
       "        vertical-align: middle;\n",
       "    }\n",
       "\n",
       "    .dataframe tbody tr th {\n",
       "        vertical-align: top;\n",
       "    }\n",
       "\n",
       "    .dataframe thead th {\n",
       "        text-align: right;\n",
       "    }\n",
       "<\/style>\n",
       "<table border=\"1\" class=\"dataframe\">\n",
       "  <thead>\n",
       "    <tr style=\"text-align: right;\">\n",
       "      <th><\/th>\n",
       "      <th>user_id<\/th>\n",
       "      <th>movie_id<\/th>\n",
       "      <th>rating<\/th>\n",
       "      <th>timestamp<\/th>\n",
       "      <th>gender<\/th>\n",
       "      <th>age<\/th>\n",
       "      <th>occupation<\/th>\n",
       "      <th>zip<\/th>\n",
       "      <th>title<\/th>\n",
       "      <th>genres<\/th>\n",
       "    <\/tr>\n",
       "  <\/thead>\n",
       "  <tbody>\n",
       "    <tr>\n",
       "      <th>0<\/th>\n",
       "      <td>1<\/td>\n",
       "      <td>1193<\/td>\n",
       "      <td>5<\/td>\n",
       "      <td>978300760<\/td>\n",
       "      <td>F<\/td>\n",
       "      <td>1<\/td>\n",
       "      <td>10<\/td>\n",
       "      <td>48067<\/td>\n",
       "      <td>One Flew Over the Cuckoo's Nest (1975)<\/td>\n",
       "      <td>Drama<\/td>\n",
       "    <\/tr>\n",
       "    <tr>\n",
       "      <th>1<\/th>\n",
       "      <td>2<\/td>\n",
       "      <td>1193<\/td>\n",
       "      <td>5<\/td>\n",
       "      <td>978298413<\/td>\n",
       "      <td>M<\/td>\n",
       "      <td>56<\/td>\n",
       "      <td>16<\/td>\n",
       "      <td>70072<\/td>\n",
       "      <td>One Flew Over the Cuckoo's Nest (1975)<\/td>\n",
       "      <td>Drama<\/td>\n",
       "    <\/tr>\n",
       "    <tr>\n",
       "      <th>2<\/th>\n",
       "      <td>12<\/td>\n",
       "      <td>1193<\/td>\n",
       "      <td>4<\/td>\n",
       "      <td>978220179<\/td>\n",
       "      <td>M<\/td>\n",
       "      <td>25<\/td>\n",
       "      <td>12<\/td>\n",
       "      <td>32793<\/td>\n",
       "      <td>One Flew Over the Cuckoo's Nest (1975)<\/td>\n",
       "      <td>Drama<\/td>\n",
       "    <\/tr>\n",
       "    <tr>\n",
       "      <th>3<\/th>\n",
       "      <td>15<\/td>\n",
       "      <td>1193<\/td>\n",
       "      <td>4<\/td>\n",
       "      <td>978199279<\/td>\n",
       "      <td>M<\/td>\n",
       "      <td>25<\/td>\n",
       "      <td>7<\/td>\n",
       "      <td>22903<\/td>\n",
       "      <td>One Flew Over the Cuckoo's Nest (1975)<\/td>\n",
       "      <td>Drama<\/td>\n",
       "    <\/tr>\n",
       "    <tr>\n",
       "      <th>4<\/th>\n",
       "      <td>17<\/td>\n",
       "      <td>1193<\/td>\n",
       "      <td>5<\/td>\n",
       "      <td>978158471<\/td>\n",
       "      <td>M<\/td>\n",
       "      <td>50<\/td>\n",
       "      <td>1<\/td>\n",
       "      <td>95350<\/td>\n",
       "      <td>One Flew Over the Cuckoo's Nest (1975)<\/td>\n",
       "      <td>Drama<\/td>\n",
       "    <\/tr>\n",
       "    <tr>\n",
       "      <th>...<\/th>\n",
       "      <td>...<\/td>\n",
       "      <td>...<\/td>\n",
       "      <td>...<\/td>\n",
       "      <td>...<\/td>\n",
       "      <td>...<\/td>\n",
       "      <td>...<\/td>\n",
       "      <td>...<\/td>\n",
       "      <td>...<\/td>\n",
       "      <td>...<\/td>\n",
       "      <td>...<\/td>\n",
       "    <\/tr>\n",
       "    <tr>\n",
       "      <th>1000204<\/th>\n",
       "      <td>5949<\/td>\n",
       "      <td>2198<\/td>\n",
       "      <td>5<\/td>\n",
       "      <td>958846401<\/td>\n",
       "      <td>M<\/td>\n",
       "      <td>18<\/td>\n",
       "      <td>17<\/td>\n",
       "      <td>47901<\/td>\n",
       "      <td>Modulations (1998)<\/td>\n",
       "      <td>Documentary<\/td>\n",
       "    <\/tr>\n",
       "    <tr>\n",
       "      <th>1000205<\/th>\n",
       "      <td>5675<\/td>\n",
       "      <td>2703<\/td>\n",
       "      <td>3<\/td>\n",
       "      <td>976029116<\/td>\n",
       "      <td>M<\/td>\n",
       "      <td>35<\/td>\n",
       "      <td>14<\/td>\n",
       "      <td>30030<\/td>\n",
       "      <td>Broken Vessels (1998)<\/td>\n",
       "      <td>Drama<\/td>\n",
       "    <\/tr>\n",
       "    <tr>\n",
       "      <th>1000206<\/th>\n",
       "      <td>5780<\/td>\n",
       "      <td>2845<\/td>\n",
       "      <td>1<\/td>\n",
       "      <td>958153068<\/td>\n",
       "      <td>M<\/td>\n",
       "      <td>18<\/td>\n",
       "      <td>17<\/td>\n",
       "      <td>92886<\/td>\n",
       "      <td>White Boys (1999)<\/td>\n",
       "      <td>Drama<\/td>\n",
       "    <\/tr>\n",
       "    <tr>\n",
       "      <th>1000207<\/th>\n",
       "      <td>5851<\/td>\n",
       "      <td>3607<\/td>\n",
       "      <td>5<\/td>\n",
       "      <td>957756608<\/td>\n",
       "      <td>F<\/td>\n",
       "      <td>18<\/td>\n",
       "      <td>20<\/td>\n",
       "      <td>55410<\/td>\n",
       "      <td>One Little Indian (1973)<\/td>\n",
       "      <td>Comedy|Drama|Western<\/td>\n",
       "    <\/tr>\n",
       "    <tr>\n",
       "      <th>1000208<\/th>\n",
       "      <td>5938<\/td>\n",
       "      <td>2909<\/td>\n",
       "      <td>4<\/td>\n",
       "      <td>957273353<\/td>\n",
       "      <td>M<\/td>\n",
       "      <td>25<\/td>\n",
       "      <td>1<\/td>\n",
       "      <td>35401<\/td>\n",
       "      <td>Five Wives, Three Secretaries and Me (1998)<\/td>\n",
       "      <td>Documentary<\/td>\n",
       "    <\/tr>\n",
       "  <\/tbody>\n",
       "<\/table>\n",
       "<p>1000209 rows × 10 columns<\/p>\n",
       "<\/div>"
      ]
     },
     "metadata":{
      
     },
     "output_type":"display_data"
    }
   ],
   "metadata":{
    "datalore":{
     "node_id":"3WwtI5TEiGPSFnTbmiI5gc",
     "type":"CODE",
     "hide_input_from_viewers":true,
     "hide_output_from_viewers":true
    }
   }
  },
  {
   "cell_type":"code",
   "source":[
    "mean_ratings = data.pivot_table('rating',index='title',columns='gender',aggfunc='mean')\n",
    "mean_ratings[:5]"
   ],
   "execution_count":13,
   "outputs":[
    {
     "data":{
      "text\/html":[
       "<div>\n",
       "<style scoped>\n",
       "    .dataframe tbody tr th:only-of-type {\n",
       "        vertical-align: middle;\n",
       "    }\n",
       "\n",
       "    .dataframe tbody tr th {\n",
       "        vertical-align: top;\n",
       "    }\n",
       "\n",
       "    .dataframe thead th {\n",
       "        text-align: right;\n",
       "    }\n",
       "<\/style>\n",
       "<table border=\"1\" class=\"dataframe\">\n",
       "  <thead>\n",
       "    <tr style=\"text-align: right;\">\n",
       "      <th>gender<\/th>\n",
       "      <th>F<\/th>\n",
       "      <th>M<\/th>\n",
       "    <\/tr>\n",
       "    <tr>\n",
       "      <th>title<\/th>\n",
       "      <th><\/th>\n",
       "      <th><\/th>\n",
       "    <\/tr>\n",
       "  <\/thead>\n",
       "  <tbody>\n",
       "    <tr>\n",
       "      <th>$1,000,000 Duck (1971)<\/th>\n",
       "      <td>3.375000<\/td>\n",
       "      <td>2.761905<\/td>\n",
       "    <\/tr>\n",
       "    <tr>\n",
       "      <th>'Night Mother (1986)<\/th>\n",
       "      <td>3.388889<\/td>\n",
       "      <td>3.352941<\/td>\n",
       "    <\/tr>\n",
       "    <tr>\n",
       "      <th>'Til There Was You (1997)<\/th>\n",
       "      <td>2.675676<\/td>\n",
       "      <td>2.733333<\/td>\n",
       "    <\/tr>\n",
       "    <tr>\n",
       "      <th>'burbs, The (1989)<\/th>\n",
       "      <td>2.793478<\/td>\n",
       "      <td>2.962085<\/td>\n",
       "    <\/tr>\n",
       "    <tr>\n",
       "      <th>...And Justice for All (1979)<\/th>\n",
       "      <td>3.828571<\/td>\n",
       "      <td>3.689024<\/td>\n",
       "    <\/tr>\n",
       "  <\/tbody>\n",
       "<\/table>\n",
       "<\/div>"
      ]
     },
     "metadata":{
      
     },
     "output_type":"display_data"
    }
   ],
   "metadata":{
    "datalore":{
     "node_id":"wj8ASM2sM2ckDJVJOhqLxM",
     "type":"CODE",
     "hide_input_from_viewers":true,
     "hide_output_from_viewers":true
    }
   }
  },
  {
   "cell_type":"code",
   "source":[
    "ratings_by_title = data.groupby('title').size()\n",
    "ratings_by_title[:10]"
   ],
   "execution_count":14,
   "outputs":[
    {
     "data":{
      "text\/html":[
       "<pre>title\n",
       "$1,000,000 Duck (1971)                37\n",
       "'Night Mother (1986)                  70\n",
       "'Til There Was You (1997)             52\n",
       "'burbs, The (1989)                   303\n",
       "...And Justice for All (1979)        199\n",
       "1-900 (1994)                           2\n",
       "10 Things I Hate About You (1999)    700\n",
       "101 Dalmatians (1961)                565\n",
       "101 Dalmatians (1996)                364\n",
       "12 Angry Men (1957)                  616\n",
       "dtype: int64<\/pre>"
      ]
     },
     "metadata":{
      
     },
     "output_type":"display_data"
    }
   ],
   "metadata":{
    "datalore":{
     "node_id":"aF0bxGtHrgGp1qrItkxI12",
     "type":"CODE",
     "hide_input_from_viewers":true,
     "hide_output_from_viewers":true
    }
   }
  },
  {
   "cell_type":"code",
   "source":[
    "active_titles = ratings_by_title.index[ratings_by_title>=250]\n",
    "active_titles"
   ],
   "execution_count":15,
   "outputs":[
    {
     "data":{
      "text\/plain":[
       "Index([''burbs, The (1989)', '10 Things I Hate About You (1999)',\n",
       "       '101 Dalmatians (1961)', '101 Dalmatians (1996)', '12 Angry Men (1957)',\n",
       "       '13th Warrior, The (1999)', '2 Days in the Valley (1996)',\n",
       "       '20,000 Leagues Under the Sea (1954)', '2001: A Space Odyssey (1968)',\n",
       "       '2010 (1984)',\n",
       "       ...\n",
       "       'X-Men (2000)', 'Year of Living Dangerously (1982)',\n",
       "       'Yellow Submarine (1968)', 'You've Got Mail (1998)',\n",
       "       'Young Frankenstein (1974)', 'Young Guns (1988)',\n",
       "       'Young Guns II (1990)', 'Young Sherlock Holmes (1985)',\n",
       "       'Zero Effect (1998)', 'eXistenZ (1999)'],\n",
       "      dtype='object', name='title', length=1216)"
      ]
     },
     "metadata":{
      
     },
     "output_type":"display_data"
    }
   ],
   "metadata":{
    "datalore":{
     "node_id":"cc9Nr91aq5A46OxSbP8bEV",
     "type":"CODE",
     "hide_input_from_viewers":true,
     "hide_output_from_viewers":true
    }
   }
  },
  {
   "cell_type":"code",
   "source":[
    "mean_ratings = mean_ratings.loc[active_titles]\n",
    "mean_ratings"
   ],
   "execution_count":16,
   "outputs":[
    {
     "data":{
      "text\/html":[
       "<div>\n",
       "<style scoped>\n",
       "    .dataframe tbody tr th:only-of-type {\n",
       "        vertical-align: middle;\n",
       "    }\n",
       "\n",
       "    .dataframe tbody tr th {\n",
       "        vertical-align: top;\n",
       "    }\n",
       "\n",
       "    .dataframe thead th {\n",
       "        text-align: right;\n",
       "    }\n",
       "<\/style>\n",
       "<table border=\"1\" class=\"dataframe\">\n",
       "  <thead>\n",
       "    <tr style=\"text-align: right;\">\n",
       "      <th>gender<\/th>\n",
       "      <th>F<\/th>\n",
       "      <th>M<\/th>\n",
       "    <\/tr>\n",
       "    <tr>\n",
       "      <th>title<\/th>\n",
       "      <th><\/th>\n",
       "      <th><\/th>\n",
       "    <\/tr>\n",
       "  <\/thead>\n",
       "  <tbody>\n",
       "    <tr>\n",
       "      <th>'burbs, The (1989)<\/th>\n",
       "      <td>2.793478<\/td>\n",
       "      <td>2.962085<\/td>\n",
       "    <\/tr>\n",
       "    <tr>\n",
       "      <th>10 Things I Hate About You (1999)<\/th>\n",
       "      <td>3.646552<\/td>\n",
       "      <td>3.311966<\/td>\n",
       "    <\/tr>\n",
       "    <tr>\n",
       "      <th>101 Dalmatians (1961)<\/th>\n",
       "      <td>3.791444<\/td>\n",
       "      <td>3.500000<\/td>\n",
       "    <\/tr>\n",
       "    <tr>\n",
       "      <th>101 Dalmatians (1996)<\/th>\n",
       "      <td>3.240000<\/td>\n",
       "      <td>2.911215<\/td>\n",
       "    <\/tr>\n",
       "    <tr>\n",
       "      <th>12 Angry Men (1957)<\/th>\n",
       "      <td>4.184397<\/td>\n",
       "      <td>4.328421<\/td>\n",
       "    <\/tr>\n",
       "    <tr>\n",
       "      <th>...<\/th>\n",
       "      <td>...<\/td>\n",
       "      <td>...<\/td>\n",
       "    <\/tr>\n",
       "    <tr>\n",
       "      <th>Young Guns (1988)<\/th>\n",
       "      <td>3.371795<\/td>\n",
       "      <td>3.425620<\/td>\n",
       "    <\/tr>\n",
       "    <tr>\n",
       "      <th>Young Guns II (1990)<\/th>\n",
       "      <td>2.934783<\/td>\n",
       "      <td>2.904025<\/td>\n",
       "    <\/tr>\n",
       "    <tr>\n",
       "      <th>Young Sherlock Holmes (1985)<\/th>\n",
       "      <td>3.514706<\/td>\n",
       "      <td>3.363344<\/td>\n",
       "    <\/tr>\n",
       "    <tr>\n",
       "      <th>Zero Effect (1998)<\/th>\n",
       "      <td>3.864407<\/td>\n",
       "      <td>3.723140<\/td>\n",
       "    <\/tr>\n",
       "    <tr>\n",
       "      <th>eXistenZ (1999)<\/th>\n",
       "      <td>3.098592<\/td>\n",
       "      <td>3.289086<\/td>\n",
       "    <\/tr>\n",
       "  <\/tbody>\n",
       "<\/table>\n",
       "<p>1216 rows × 2 columns<\/p>\n",
       "<\/div>"
      ]
     },
     "metadata":{
      
     },
     "output_type":"display_data"
    }
   ],
   "metadata":{
    "datalore":{
     "node_id":"tlQeZFpdCq5KnaeOtS27qT",
     "type":"CODE",
     "hide_input_from_viewers":true,
     "hide_output_from_viewers":true
    }
   }
  },
  {
   "cell_type":"code",
   "source":[
    "top_female_ratings = mean_ratings.sort_values(by='F',ascending=False)\n",
    "top_female_ratings[:10]"
   ],
   "execution_count":17,
   "outputs":[
    {
     "data":{
      "text\/html":[
       "<div>\n",
       "<style scoped>\n",
       "    .dataframe tbody tr th:only-of-type {\n",
       "        vertical-align: middle;\n",
       "    }\n",
       "\n",
       "    .dataframe tbody tr th {\n",
       "        vertical-align: top;\n",
       "    }\n",
       "\n",
       "    .dataframe thead th {\n",
       "        text-align: right;\n",
       "    }\n",
       "<\/style>\n",
       "<table border=\"1\" class=\"dataframe\">\n",
       "  <thead>\n",
       "    <tr style=\"text-align: right;\">\n",
       "      <th>gender<\/th>\n",
       "      <th>F<\/th>\n",
       "      <th>M<\/th>\n",
       "    <\/tr>\n",
       "    <tr>\n",
       "      <th>title<\/th>\n",
       "      <th><\/th>\n",
       "      <th><\/th>\n",
       "    <\/tr>\n",
       "  <\/thead>\n",
       "  <tbody>\n",
       "    <tr>\n",
       "      <th>Close Shave, A (1995)<\/th>\n",
       "      <td>4.644444<\/td>\n",
       "      <td>4.473795<\/td>\n",
       "    <\/tr>\n",
       "    <tr>\n",
       "      <th>Wrong Trousers, The (1993)<\/th>\n",
       "      <td>4.588235<\/td>\n",
       "      <td>4.478261<\/td>\n",
       "    <\/tr>\n",
       "    <tr>\n",
       "      <th>Sunset Blvd. (a.k.a. Sunset Boulevard) (1950)<\/th>\n",
       "      <td>4.572650<\/td>\n",
       "      <td>4.464589<\/td>\n",
       "    <\/tr>\n",
       "    <tr>\n",
       "      <th>Wallace &amp; Gromit: The Best of Aardman Animation (1996)<\/th>\n",
       "      <td>4.563107<\/td>\n",
       "      <td>4.385075<\/td>\n",
       "    <\/tr>\n",
       "    <tr>\n",
       "      <th>Schindler's List (1993)<\/th>\n",
       "      <td>4.562602<\/td>\n",
       "      <td>4.491415<\/td>\n",
       "    <\/tr>\n",
       "    <tr>\n",
       "      <th>Shawshank Redemption, The (1994)<\/th>\n",
       "      <td>4.539075<\/td>\n",
       "      <td>4.560625<\/td>\n",
       "    <\/tr>\n",
       "    <tr>\n",
       "      <th>Grand Day Out, A (1992)<\/th>\n",
       "      <td>4.537879<\/td>\n",
       "      <td>4.293255<\/td>\n",
       "    <\/tr>\n",
       "    <tr>\n",
       "      <th>To Kill a Mockingbird (1962)<\/th>\n",
       "      <td>4.536667<\/td>\n",
       "      <td>4.372611<\/td>\n",
       "    <\/tr>\n",
       "    <tr>\n",
       "      <th>Creature Comforts (1990)<\/th>\n",
       "      <td>4.513889<\/td>\n",
       "      <td>4.272277<\/td>\n",
       "    <\/tr>\n",
       "    <tr>\n",
       "      <th>Usual Suspects, The (1995)<\/th>\n",
       "      <td>4.513317<\/td>\n",
       "      <td>4.518248<\/td>\n",
       "    <\/tr>\n",
       "  <\/tbody>\n",
       "<\/table>\n",
       "<\/div>"
      ]
     },
     "metadata":{
      
     },
     "output_type":"display_data"
    }
   ],
   "metadata":{
    "datalore":{
     "node_id":"UkOO4ca50oADKU328LIhDB",
     "type":"CODE",
     "hide_input_from_viewers":true,
     "hide_output_from_viewers":true
    }
   }
  },
  {
   "cell_type":"code",
   "source":[
    "mean_ratings['diff'] = mean_ratings['M'] - mean_ratings['F']"
   ],
   "execution_count":18,
   "outputs":[
    
   ],
   "metadata":{
    "datalore":{
     "node_id":"7AzJsolmoFH7kDW8a8XIy5",
     "type":"CODE",
     "hide_input_from_viewers":true,
     "hide_output_from_viewers":true
    }
   }
  },
  {
   "cell_type":"code",
   "source":[
    "sorted_by_diff = mean_ratings.sort_values(by='diff')\n",
    "sorted_by_diff[:10]"
   ],
   "execution_count":19,
   "outputs":[
    {
     "data":{
      "text\/html":[
       "<div>\n",
       "<style scoped>\n",
       "    .dataframe tbody tr th:only-of-type {\n",
       "        vertical-align: middle;\n",
       "    }\n",
       "\n",
       "    .dataframe tbody tr th {\n",
       "        vertical-align: top;\n",
       "    }\n",
       "\n",
       "    .dataframe thead th {\n",
       "        text-align: right;\n",
       "    }\n",
       "<\/style>\n",
       "<table border=\"1\" class=\"dataframe\">\n",
       "  <thead>\n",
       "    <tr style=\"text-align: right;\">\n",
       "      <th>gender<\/th>\n",
       "      <th>F<\/th>\n",
       "      <th>M<\/th>\n",
       "      <th>diff<\/th>\n",
       "    <\/tr>\n",
       "    <tr>\n",
       "      <th>title<\/th>\n",
       "      <th><\/th>\n",
       "      <th><\/th>\n",
       "      <th><\/th>\n",
       "    <\/tr>\n",
       "  <\/thead>\n",
       "  <tbody>\n",
       "    <tr>\n",
       "      <th>Dirty Dancing (1987)<\/th>\n",
       "      <td>3.790378<\/td>\n",
       "      <td>2.959596<\/td>\n",
       "      <td>-0.830782<\/td>\n",
       "    <\/tr>\n",
       "    <tr>\n",
       "      <th>Jumpin' Jack Flash (1986)<\/th>\n",
       "      <td>3.254717<\/td>\n",
       "      <td>2.578358<\/td>\n",
       "      <td>-0.676359<\/td>\n",
       "    <\/tr>\n",
       "    <tr>\n",
       "      <th>Grease (1978)<\/th>\n",
       "      <td>3.975265<\/td>\n",
       "      <td>3.367041<\/td>\n",
       "      <td>-0.608224<\/td>\n",
       "    <\/tr>\n",
       "    <tr>\n",
       "      <th>Little Women (1994)<\/th>\n",
       "      <td>3.870588<\/td>\n",
       "      <td>3.321739<\/td>\n",
       "      <td>-0.548849<\/td>\n",
       "    <\/tr>\n",
       "    <tr>\n",
       "      <th>Steel Magnolias (1989)<\/th>\n",
       "      <td>3.901734<\/td>\n",
       "      <td>3.365957<\/td>\n",
       "      <td>-0.535777<\/td>\n",
       "    <\/tr>\n",
       "    <tr>\n",
       "      <th>Anastasia (1997)<\/th>\n",
       "      <td>3.800000<\/td>\n",
       "      <td>3.281609<\/td>\n",
       "      <td>-0.518391<\/td>\n",
       "    <\/tr>\n",
       "    <tr>\n",
       "      <th>Rocky Horror Picture Show, The (1975)<\/th>\n",
       "      <td>3.673016<\/td>\n",
       "      <td>3.160131<\/td>\n",
       "      <td>-0.512885<\/td>\n",
       "    <\/tr>\n",
       "    <tr>\n",
       "      <th>Color Purple, The (1985)<\/th>\n",
       "      <td>4.158192<\/td>\n",
       "      <td>3.659341<\/td>\n",
       "      <td>-0.498851<\/td>\n",
       "    <\/tr>\n",
       "    <tr>\n",
       "      <th>Age of Innocence, The (1993)<\/th>\n",
       "      <td>3.827068<\/td>\n",
       "      <td>3.339506<\/td>\n",
       "      <td>-0.487561<\/td>\n",
       "    <\/tr>\n",
       "    <tr>\n",
       "      <th>Free Willy (1993)<\/th>\n",
       "      <td>2.921348<\/td>\n",
       "      <td>2.438776<\/td>\n",
       "      <td>-0.482573<\/td>\n",
       "    <\/tr>\n",
       "  <\/tbody>\n",
       "<\/table>\n",
       "<\/div>"
      ]
     },
     "metadata":{
      
     },
     "output_type":"display_data"
    }
   ],
   "metadata":{
    "datalore":{
     "node_id":"BFoX1HC8vrkUCHkV1rCAgb",
     "type":"CODE",
     "hide_input_from_viewers":true,
     "hide_output_from_viewers":true
    }
   }
  },
  {
   "cell_type":"code",
   "source":[
    "sorted_by_diff[::-1][:10]"
   ],
   "execution_count":20,
   "outputs":[
    {
     "data":{
      "text\/html":[
       "<div>\n",
       "<style scoped>\n",
       "    .dataframe tbody tr th:only-of-type {\n",
       "        vertical-align: middle;\n",
       "    }\n",
       "\n",
       "    .dataframe tbody tr th {\n",
       "        vertical-align: top;\n",
       "    }\n",
       "\n",
       "    .dataframe thead th {\n",
       "        text-align: right;\n",
       "    }\n",
       "<\/style>\n",
       "<table border=\"1\" class=\"dataframe\">\n",
       "  <thead>\n",
       "    <tr style=\"text-align: right;\">\n",
       "      <th>gender<\/th>\n",
       "      <th>F<\/th>\n",
       "      <th>M<\/th>\n",
       "      <th>diff<\/th>\n",
       "    <\/tr>\n",
       "    <tr>\n",
       "      <th>title<\/th>\n",
       "      <th><\/th>\n",
       "      <th><\/th>\n",
       "      <th><\/th>\n",
       "    <\/tr>\n",
       "  <\/thead>\n",
       "  <tbody>\n",
       "    <tr>\n",
       "      <th>Good, The Bad and The Ugly, The (1966)<\/th>\n",
       "      <td>3.494949<\/td>\n",
       "      <td>4.221300<\/td>\n",
       "      <td>0.726351<\/td>\n",
       "    <\/tr>\n",
       "    <tr>\n",
       "      <th>Kentucky Fried Movie, The (1977)<\/th>\n",
       "      <td>2.878788<\/td>\n",
       "      <td>3.555147<\/td>\n",
       "      <td>0.676359<\/td>\n",
       "    <\/tr>\n",
       "    <tr>\n",
       "      <th>Dumb &amp; Dumber (1994)<\/th>\n",
       "      <td>2.697987<\/td>\n",
       "      <td>3.336595<\/td>\n",
       "      <td>0.638608<\/td>\n",
       "    <\/tr>\n",
       "    <tr>\n",
       "      <th>Longest Day, The (1962)<\/th>\n",
       "      <td>3.411765<\/td>\n",
       "      <td>4.031447<\/td>\n",
       "      <td>0.619682<\/td>\n",
       "    <\/tr>\n",
       "    <tr>\n",
       "      <th>Cable Guy, The (1996)<\/th>\n",
       "      <td>2.250000<\/td>\n",
       "      <td>2.863787<\/td>\n",
       "      <td>0.613787<\/td>\n",
       "    <\/tr>\n",
       "    <tr>\n",
       "      <th>Evil Dead II (Dead By Dawn) (1987)<\/th>\n",
       "      <td>3.297297<\/td>\n",
       "      <td>3.909283<\/td>\n",
       "      <td>0.611985<\/td>\n",
       "    <\/tr>\n",
       "    <tr>\n",
       "      <th>Hidden, The (1987)<\/th>\n",
       "      <td>3.137931<\/td>\n",
       "      <td>3.745098<\/td>\n",
       "      <td>0.607167<\/td>\n",
       "    <\/tr>\n",
       "    <tr>\n",
       "      <th>Rocky III (1982)<\/th>\n",
       "      <td>2.361702<\/td>\n",
       "      <td>2.943503<\/td>\n",
       "      <td>0.581801<\/td>\n",
       "    <\/tr>\n",
       "    <tr>\n",
       "      <th>Caddyshack (1980)<\/th>\n",
       "      <td>3.396135<\/td>\n",
       "      <td>3.969737<\/td>\n",
       "      <td>0.573602<\/td>\n",
       "    <\/tr>\n",
       "    <tr>\n",
       "      <th>For a Few Dollars More (1965)<\/th>\n",
       "      <td>3.409091<\/td>\n",
       "      <td>3.953795<\/td>\n",
       "      <td>0.544704<\/td>\n",
       "    <\/tr>\n",
       "  <\/tbody>\n",
       "<\/table>\n",
       "<\/div>"
      ]
     },
     "metadata":{
      
     },
     "output_type":"display_data"
    }
   ],
   "metadata":{
    "datalore":{
     "node_id":"fC8tvPk9RjYtBxcHkEVjzA",
     "type":"CODE",
     "hide_input_from_viewers":true,
     "hide_output_from_viewers":true
    }
   }
  },
  {
   "cell_type":"code",
   "source":[
    "ratings_std_by_title = data.groupby('title')['rating'].std()\n",
    "ratings_std_by_title = ratings_std_by_title.loc[active_titles]\n",
    "ratings_std_by_title.sort_values(ascending=True)[:10]"
   ],
   "execution_count":23,
   "outputs":[
    {
     "data":{
      "text\/html":[
       "<pre>title\n",
       "Close Shave, A (1995)                            0.667143\n",
       "Rear Window (1954)                               0.688946\n",
       "Great Escape, The (1963)                         0.692585\n",
       "Shawshank Redemption, The (1994)                 0.700443\n",
       "Wrong Trousers, The (1993)                       0.708666\n",
       "Raiders of the Lost Ark (1981)                   0.725647\n",
       "North by Northwest (1959)                        0.732515\n",
       "Hustler, The (1961)                              0.737298\n",
       "Double Indemnity (1944)                          0.740793\n",
       "Sunset Blvd. (a.k.a. Sunset Boulevard) (1950)    0.740924\n",
       "Name: rating, dtype: float64<\/pre>"
      ]
     },
     "metadata":{
      
     },
     "output_type":"display_data"
    }
   ],
   "metadata":{
    "datalore":{
     "node_id":"NaYScbgV4IMbGAoIyLAS0U",
     "type":"CODE",
     "hide_input_from_viewers":true,
     "hide_output_from_viewers":true
    }
   }
  }
 ],
 "metadata":{
  "kernelspec":{
   "display_name":"Python",
   "language":"python",
   "name":"python"
  },
  "datalore":{
   "computation_mode":"JUPYTER",
   "package_manager":"pip",
   "base_environment":"default",
   "packages":[
    
   ],
   "report_row_ids":[
    
   ],
   "version":3
  }
 },
 "nbformat":4,
 "nbformat_minor":4
}