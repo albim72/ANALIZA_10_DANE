{
 "cells":[
  {
   "cell_type":"code",
   "source":[
    "import numpy as np\n",
    "\n",
    "print(np.zeros(13))\n",
    "\n",
    "jedynka = np.ones(22,dtype=int)\n",
    "\n",
    "print(jedynka)\n",
    "print(type(jedynka))"
   ],
   "execution_count":1,
   "outputs":[
    {
     "name":"stdout",
     "text":[
      "[0. 0. 0. 0. 0. 0. 0. 0. 0. 0. 0. 0. 0.]\n",
      "[1 1 1 1 1 1 1 1 1 1 1 1 1 1 1 1 1 1 1 1 1 1]\n",
      "<class 'numpy.ndarray'>\n"
     ],
     "output_type":"stream"
    }
   ],
   "metadata":{
    "datalore":{
     "node_id":"HRzz14BZ51PHkpX6kxjfuO",
     "type":"CODE",
     "hide_input_from_viewers":true,
     "hide_output_from_viewers":true
    }
   }
  },
  {
   "cell_type":"code",
   "source":[
    "j  = [1,1,1,1,1,1]\n",
    "print(type(j))\n",
    "\n",
    "u = np.arange(1,2.7E7,3)\n",
    "print(u)\n",
    "\n",
    "k = np.linspace(0,10,num=5)\n",
    "print(k)"
   ],
   "execution_count":2,
   "outputs":[
    {
     "name":"stdout",
     "text":[
      "<class 'list'>\n",
      "[1.0000000e+00 4.0000000e+00 7.0000000e+00 ... 2.6999992e+07 2.6999995e+07\n",
      " 2.6999998e+07]\n",
      "[ 0.   2.5  5.   7.5 10. ]\n"
     ],
     "output_type":"stream"
    }
   ],
   "metadata":{
    "datalore":{
     "node_id":"G4cJyYlzc93nJizqKN5cMO",
     "type":"CODE",
     "hide_input_from_viewers":true,
     "hide_output_from_viewers":true
    }
   }
  },
  {
   "cell_type":"code",
   "source":[
    "l1 = [5,7,8,9]\n",
    "l2 = [11,34,5,67]\n",
    "l3 = [12,22,56,89]\n",
    "\n",
    "l1 = l1+l2+l3\n",
    "print(l1)"
   ],
   "execution_count":3,
   "outputs":[
    {
     "name":"stdout",
     "text":[
      "[5, 7, 8, 9, 11, 34, 5, 67, 12, 22, 56, 89]\n"
     ],
     "output_type":"stream"
    }
   ],
   "metadata":{
    "datalore":{
     "node_id":"BgyqTilPVtTUduXo8BlO6t",
     "type":"CODE",
     "hide_input_from_viewers":true,
     "hide_output_from_viewers":true
    }
   }
  },
  {
   "cell_type":"code",
   "source":[
    "a = np.array(l1)\n",
    "b = np.array(l2)\n",
    "c = np.array(l3)\n",
    "\n",
    "# a = a+b+c\n",
    "# print(a)\n",
    "\n",
    "a = np.concatenate((a,b,c))\n",
    "print(a)\n",
    "\n",
    "# CTRL+ \/  - narzucenie komentarza na zaznacony blok tekstu lub odkomentowanie\n",
    "# CTRL + D   duplikacja bloku tekstu"
   ],
   "execution_count":5,
   "outputs":[
    {
     "name":"stdout",
     "text":[
      "[ 5  7  8  9 11 34  5 67 12 22 56 89 11 34  5 67 12 22 56 89]\n"
     ],
     "output_type":"stream"
    }
   ],
   "metadata":{
    "datalore":{
     "node_id":"FLpB3vtoMfkndXTvyA5dAE",
     "type":"CODE",
     "hide_input_from_viewers":true,
     "hide_output_from_viewers":true
    }
   }
  },
  {
   "cell_type":"code",
   "source":[
    "listaz1 = [[65,4],[34,56]]\n",
    "\n",
    "macierzm1 = np.array([[2,99],[78,24]])\n",
    "\n",
    "print(listaz1)\n",
    "print(macierzm1)\n",
    "\n",
    "print(listaz1[0])\n",
    "print(listaz1[0][1])\n",
    "# print(listaz1[0,1])\n",
    "\n",
    "print(macierzm1[0])\n",
    "print(macierzm1[0][1])\n",
    "print(macierzm1[0,1])"
   ],
   "execution_count":9,
   "outputs":[
    {
     "name":"stdout",
     "text":[
      "[[65, 4], [34, 56]]\n",
      "[[ 2 99]\n",
      " [78 24]]\n",
      "[65, 4]\n",
      "4\n",
      "[ 2 99]\n",
      "99\n",
      "99\n"
     ],
     "output_type":"stream"
    }
   ],
   "metadata":{
    "datalore":{
     "node_id":"vmUtW9ERdCS2xRf04fZQJe",
     "type":"CODE",
     "hide_input_from_viewers":true,
     "hide_output_from_viewers":true
    }
   }
  }
 ],
 "metadata":{
  "kernelspec":{
   "display_name":"Python",
   "language":"python",
   "name":"python"
  },
  "datalore":{
   "computation_mode":"JUPYTER",
   "package_manager":"pip",
   "base_environment":"default",
   "packages":[],
   "report_row_ids":[],
   "version":3
  }
 },
 "nbformat":4,
 "nbformat_minor":4
}